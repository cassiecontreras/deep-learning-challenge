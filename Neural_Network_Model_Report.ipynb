{
  "nbformat": 4,
  "nbformat_minor": 0,
  "metadata": {
    "colab": {
      "provenance": []
    },
    "kernelspec": {
      "name": "python3",
      "display_name": "Python 3"
    },
    "language_info": {
      "name": "python"
    }
  },
  "cells": [
    {
      "cell_type": "markdown",
      "source": [
        "**Overview of the analysis**\n",
        "The nonprofit Alphabet Soup is selecting applicants for funding with the best chance of success in their ventures and wants to be able to analyze this using a tool. Using my knowledge of machine learning and neural networks, I'll be using the features in the provided dataset to create a binary classifier that can predict whether applicants will be successful if funded by Alphabet Soup.\n",
        "\n",
        "I've received a CSV containing more than 34,000 organizations that have received funding from Alphabet Soup over the years, and will analyze this data to create the necessary tool.\n",
        "\n",
        "\n",
        "**Results Using bulleted lists and images to support your answers, address the following questions:**\n",
        "\n",
        "**Data Preprocessing**\n",
        "\n",
        "What variable(s) are the target(s) for your model?\n",
        "The target variable is the 'IS_SUCCESSFUL' column from application_df\n",
        "\n",
        "What variable(s) are the features for your model?\n",
        "The feature variables are every other column from application_df --> this was defined by dropping the 'IS_SUCCESSFUL' column from the original dataframe\n",
        "\n",
        "What variable(s) should be removed from the input data because they are neither targets nor features?\n",
        "Both 'EIN' and 'NAME' columns were dropped/removed, because they were neither targets nor features for the dataset.\n",
        "\n",
        "\n",
        "**Compiling, Training, and Evaluating the Model**\n",
        "\n",
        "How many neurons, layers, and activation functions did you select for your neural network model, and why?\n",
        "In the first attempt, I used 8 hidden_nodes_layer1 and 5 hidden_nodes_layer2.\n",
        "\n",
        "Were you able to achieve the target model performance?\n",
        "No\n",
        "\n",
        "What steps did you take in your attempts to increase model performance?\n",
        "I added more layers, removed more columns, added additional hidden nodes, and switched up the activation functions associated with each layer in an attempt to achieve higher model accuracy.\n",
        "\n",
        "**Summary**\n",
        "Overall, the deep learning model was around 73% accurate in predicting the classification problem. Using a model with greater correlation between input and output would likely result in higher prediction accuracy. I can achieve this by doing additional data cleanup up front, as well as by using a model with different activation functions and iterating until higher accuracy is reached."
      ],
      "metadata": {
        "id": "VxPOqbg3aHTB"
      }
    }
  ]
}